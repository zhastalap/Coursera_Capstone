{
 "cells": [
  {
   "cell_type": "markdown",
   "metadata": {},
   "source": [
    "# Business case"
   ]
  },
  {
   "cell_type": "markdown",
   "metadata": {},
   "source": [
    "The goal of this project is to open a restaurant business of Russian cuisine in safe areas of Canada in the city of Vancouver, which would interest all interested parties of this business, including the investor, but the main priority is safety.\n",
    "The first task is to select the safest area, having analyzed crime data for the restaurant business and included in the list of neighborhoods, where a restaurant that represents Russian cuisine is not one of the most popular places, and at the same time are as close to the city as possible. To do this, we will use our data processing tools to analyze data and focus on the safest area and explore its surroundings."
   ]
  },
  {
   "cell_type": "markdown",
   "metadata": {},
   "source": [
    "# Source"
   ]
  },
  {
   "cell_type": "markdown",
   "metadata": {},
   "source": [
    "We will use the geographical coordinates of Vancouver to build areas in a safe area of ​​the city, in the immediate vicinity of the city, and finally, group our areas and present our results.\n",
    "To extract / generate the necessary information, we need the following data sources:\n",
    "• Using a real world dataset containing crime details in Vancouver from Kaggle.\n",
    "• Gathering additional information on the list of classified districts in Vancouver from Wikipedia.\n",
    "• Creation of a new cluster of data on neighborhoods, together with their areas, crime data and the corresponding coordinates of the neighborhood. This latitude and longitude data will be selected using a geocoder.\n",
    "• Creating a new data cluster by region, the data source is the Four Square API.\n",
    "• Folium to visualize Maps, KMeans from SciKit will also be used."
   ]
  },
  {
   "cell_type": "code",
   "execution_count": null,
   "metadata": {},
   "outputs": [],
   "source": []
  },
  {
   "cell_type": "code",
   "execution_count": null,
   "metadata": {},
   "outputs": [],
   "source": []
  },
  {
   "cell_type": "code",
   "execution_count": null,
   "metadata": {},
   "outputs": [],
   "source": []
  },
  {
   "cell_type": "code",
   "execution_count": null,
   "metadata": {},
   "outputs": [],
   "source": []
  }
 ],
 "metadata": {
  "kernelspec": {
   "display_name": "Python 3",
   "language": "python",
   "name": "python3"
  },
  "language_info": {
   "codemirror_mode": {
    "name": "ipython",
    "version": 3
   },
   "file_extension": ".py",
   "mimetype": "text/x-python",
   "name": "python",
   "nbconvert_exporter": "python",
   "pygments_lexer": "ipython3",
   "version": "3.7.6"
  }
 },
 "nbformat": 4,
 "nbformat_minor": 4
}
